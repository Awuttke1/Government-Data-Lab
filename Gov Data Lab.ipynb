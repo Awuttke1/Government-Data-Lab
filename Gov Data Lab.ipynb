{
 "cells": [
  {
   "cell_type": "code",
   "execution_count": 1,
   "id": "ef6e956e",
   "metadata": {},
   "outputs": [],
   "source": [
    "import pandas as pd\n",
    "import matplotlib"
   ]
  },
  {
   "cell_type": "code",
   "execution_count": 2,
   "id": "e6b1da2c",
   "metadata": {},
   "outputs": [],
   "source": [
    "file = 'SSOCS_07_08_SSOCS08_v1_0.csv'"
   ]
  },
  {
   "cell_type": "code",
   "execution_count": 3,
   "id": "30cf5110",
   "metadata": {},
   "outputs": [
    {
     "name": "stdout",
     "output_type": "stream",
     "text": [
      "   schid  c0014_r c0016_r  c0110  c0112  c0114  c0116  c0120  c0122  c0124  \\\n",
      "0      2      1.0      05      1      1      1      2      2      1      2   \n",
      "1      3      1.0      26      1      1      1      2      2      2      1   \n",
      "2      4      1.0      01      1      1      2      2      2      2      1   \n",
      "3      6      1.0      11      1      1      1      2      2      1      2   \n",
      "4      7      1.0      03      1      1      2      2      2      1      2   \n",
      "\n",
      "   ...  ic0542  ic0544  ic0546  ic0556  ic0558  ic0560  ic0562  ic0568  \\\n",
      "0  ...       0       0       0       0       0       0       0       0   \n",
      "1  ...      11       0      10       0       0       0       0       0   \n",
      "2  ...       0       0       0       0       0       0       0       0   \n",
      "3  ...       0       0       0       0       0       0       0       0   \n",
      "4  ...       0       0      10       0       0       0       0       0   \n",
      "\n",
      "   ic0570  ic0572  \n",
      "0       0       0  \n",
      "1       0       0  \n",
      "2       0       0  \n",
      "3       0       0  \n",
      "4       0       0  \n",
      "\n",
      "[5 rows x 414 columns]\n"
     ]
    }
   ],
   "source": [
    "df = pd.read_csv(file)\n",
    "print(df.head())"
   ]
  },
  {
   "cell_type": "code",
   "execution_count": 4,
   "id": "9ad4b1d0",
   "metadata": {},
   "outputs": [
    {
     "name": "stdout",
     "output_type": "stream",
     "text": [
      "['schid', 'c0014_r', 'c0016_r', 'c0110', 'c0112', 'c0114', 'c0116', 'c0120', 'c0122', 'c0124', 'c0126', 'c0128', 'c0130', 'c0132', 'c0134', 'c0136', 'c0138', 'c0140', 'c0141', 'c0142', 'c0143', 'c0144', 'c0146', 'c0148', 'c0150', 'c0152', 'c0154', 'c0156', 'c0158', 'c0160', 'c0162', 'c0164', 'c0166', 'c0168', 'c0169', 'c0170', 'c0171', 'c0172', 'c0173', 'c0174', 'c0176', 'c0178', 'c0180', 'c0182', 'c0184', 'c0186', 'c0188', 'c0190', 'c0192', 'c0194', 'c0196', 'c0198', 'c0200', 'c0202', 'c0204', 'c0206', 'c0208', 'c0210', 'c0212', 'c0214', 'c0216', 'c0218', 'c0220', 'c0222', 'c0224', 'c0226', 'c0228', 'c0230', 'c0244', 'c0246', 'c0248', 'c0250', 'c0252', 'c0254', 'c0256', 'c0258', 'c0260', 'c0262', 'c0264', 'c0266', 'c0268', 'c0270', 'c0272', 'c0274', 'c0276', 'c0280', 'c0282', 'c0284', 'c0286', 'c0288', 'c0290', 'c0292', 'c0294', 'c0296', 'c0298', 'c0300', 'c0302', 'c0304', 'c0306', 'c0308', 'c0374', 'c0376', 'c0378', 'c0380', 'c0382', 'c0384', 'c0386', 'c0388', 'c0390', 'c0392', 'c0394', 'c0396', 'c0398', 'c0400', 'c0402', 'c0404', 'c0406', 'c0408', 'c0410', 'c0412', 'c0414', 'c0416', 'c0418', 'c0420', 'c0422', 'c0424', 'c0426', 'c0428', 'c0430', 'c0432', 'c0434', 'c0436', 'c0438', 'c0440', 'c0442', 'c0444', 'c0446', 'c0448', 'c0450', 'c0452', 'c0454', 'c0456', 'c0508', 'c0510', 'c0512', 'c0514', 'c0516', 'c0518', 'c0520', 'c0526', 'c0528', 'c0532', 'c0534', 'c0536', 'c0538', 'c0540_r', 'c0542_r', 'c0544_r', 'c0546_r', 'c0556_r', 'c0558_r', 'c0560', 'c0562', 'c0568', 'c0570', 'c0572', 'c0578', 'c0578_dd', 'c0578_mm', 'c0578_yy', 'c0580', 'crisis08', 'distot08', 'incid08', 'incpol08', 'othact08', 'outsus08', 'probwk08', 'removl08', 'strata', 'stuoff08', 'svinc08', 'svpol08', 'transf08', 'vioinc08', 'viopol08', 'disfire08', 'disweap08', 'disdrug08', 'disalc08', 'disatt08', 'disins08', 'ganghate', 'disrupt', 'sec_ft', 'sec_pt', 'fr_catmn', 'fr_lvel', 'fr_size', 'fr_urban', 'finalwgt', 'repwgt1', 'repwgt2', 'repwgt3', 'repwgt4', 'repwgt5', 'repwgt6', 'repwgt7', 'repwgt8', 'repwgt9', 'repwgt10', 'repwgt11', 'repwgt12', 'repwgt13', 'repwgt14', 'repwgt15', 'repwgt16', 'repwgt17', 'repwgt18', 'repwgt19', 'repwgt20', 'repwgt21', 'repwgt22', 'repwgt23', 'repwgt24', 'repwgt25', 'repwgt26', 'repwgt27', 'repwgt28', 'repwgt29', 'repwgt30', 'repwgt31', 'repwgt32', 'repwgt33', 'repwgt34', 'repwgt35', 'repwgt36', 'repwgt37', 'repwgt38', 'repwgt39', 'repwgt40', 'repwgt41', 'repwgt42', 'repwgt43', 'repwgt44', 'repwgt45', 'repwgt46', 'repwgt47', 'repwgt48', 'repwgt49', 'repwgt50', 'ic0110', 'ic0112', 'ic0114', 'ic0116', 'ic0120', 'ic0122', 'ic0124', 'ic0126', 'ic0128', 'ic0130', 'ic0132', 'ic0134', 'ic0136', 'ic0138', 'ic0140', 'ic0141', 'ic0142', 'ic0143', 'ic0144', 'ic0146', 'ic0148', 'ic0150', 'ic0152', 'ic0154', 'ic0156', 'ic0158', 'ic0160', 'ic0162', 'ic0164', 'ic0166', 'ic0168', 'ic0169', 'ic0170', 'ic0171', 'ic0172', 'ic0173', 'ic0174', 'ic0176', 'ic0178', 'ic0180', 'ic0182', 'ic0184', 'ic0186', 'ic0188', 'ic0190', 'ic0192', 'ic0194', 'ic0196', 'ic0198', 'ic0200', 'ic0202', 'ic0204', 'ic0206', 'ic0208', 'ic0210', 'ic0212', 'ic0214', 'ic0216', 'ic0218', 'ic0220', 'ic0222', 'ic0224', 'ic0226', 'ic0228', 'ic0230', 'ic0244', 'ic0246', 'ic0248', 'ic0250', 'ic0252', 'ic0254', 'ic0256', 'ic0258', 'ic0260', 'ic0262', 'ic0264', 'ic0266', 'ic0268', 'ic0270', 'ic0272', 'ic0274', 'ic0276', 'ic0280', 'ic0282', 'ic0284', 'ic0286', 'ic0288', 'ic0290', 'ic0292', 'ic0294', 'ic0296', 'ic0298', 'ic0300', 'ic0302', 'ic0304', 'ic0306', 'ic0308', 'ic0374', 'ic0376', 'ic0378', 'ic0380', 'ic0382', 'ic0384', 'ic0386', 'ic0388', 'ic0390', 'ic0392', 'ic0394', 'ic0396', 'ic0398', 'ic0400', 'ic0402', 'ic0404', 'ic0406', 'ic0408', 'ic0410', 'ic0412', 'ic0414', 'ic0416', 'ic0418', 'ic0420', 'ic0422', 'ic0424', 'ic0426', 'ic0428', 'ic0430', 'ic0432', 'ic0434', 'ic0436', 'ic0438', 'ic0440', 'ic0442', 'ic0444', 'ic0446', 'ic0448', 'ic0450', 'ic0452', 'ic0454', 'ic0456', 'ic0508', 'ic0510', 'ic0512', 'ic0514', 'ic0516', 'ic0518', 'ic0520', 'ic0526', 'ic0528', 'ic0532', 'ic0534', 'ic0536', 'ic0538', 'ic0540', 'ic0542', 'ic0544', 'ic0546', 'ic0556', 'ic0558', 'ic0560', 'ic0562', 'ic0568', 'ic0570', 'ic0572']\n"
     ]
    }
   ],
   "source": [
    "print(list(df))"
   ]
  },
  {
   "cell_type": "code",
   "execution_count": 5,
   "id": "421ac66b",
   "metadata": {},
   "outputs": [
    {
     "name": "stdout",
     "output_type": "stream",
     "text": [
      "   Student Racial/Ethnic Tensions  freq\n",
      "4                               1    42\n",
      "3                               2    88\n",
      "2                               3   138\n",
      "0                               4  1579\n",
      "1                               5   713\n"
     ]
    }
   ],
   "source": [
    "col = 'c0374' #<-edit this value! column name as it appears in dataframe\n",
    "col_name = 'Student Racial/Ethnic Tensions' #<-edit this value! descriptive name for column\n",
    "freq = df[col].value_counts().rename_axis(col_name).reset_index(name='freq')\n",
    "freq = freq.sort_values(by = col_name)\n",
    "print(freq)"
   ]
  },
  {
   "cell_type": "code",
   "execution_count": 12,
   "id": "956c647e",
   "metadata": {},
   "outputs": [
    {
     "name": "stdout",
     "output_type": "stream",
     "text": [
      "  Student Racial/Ethnic Tensions  freq\n",
      "4                  Happens Daily    42\n",
      "3   Happens at Least Once a Week    88\n",
      "2  Happens at Least Once a Month   138\n",
      "0            Happens on Occasion  1579\n",
      "1                  Never Happens   713\n"
     ]
    }
   ],
   "source": [
    "#replace codes with descriptive labels\n",
    "#if your dataframe already has descriptive labels, you don't need to run this cell\n",
    "codebook = [['1', 'Happens Daily'], #<- if appropriate, replace these values based on codebook or data dictionary for your dataset\n",
    "            ['2', 'Happens at Least Once a Week'], \n",
    "            ['3', 'Happens at Least Once a Month'], \n",
    "            ['4', 'Happens on Occasion'], \n",
    "            ['5', 'Never Happens'] ]\n",
    "#loops through label codes and replaces them in frequency table\n",
    "for lbl in codebook:\n",
    "    freq[col_name] = freq[col_name].replace(int(lbl[0]), (lbl[1]))\n",
    "\n",
    "#prints updated frequency table\n",
    "print(freq)"
   ]
  },
  {
   "cell_type": "code",
   "execution_count": 13,
   "id": "599dedc8",
   "metadata": {},
   "outputs": [
    {
     "data": {
      "image/png": "[encoded data removed]",
      "text/plain": [
       "<Figure size 432x288 with 1 Axes>"
      ]
     },
     "metadata": {
      "needs_background": "light"
     },
     "output_type": "display_data"
    }
   ],
   "source": [
    "ax = freq.plot.barh(x=col_name, y='freq', rot=0)"
   ]
  },
  {
   "cell_type": "code",
   "execution_count": null,
   "id": "335dfaba",
   "metadata": {},
   "outputs": [],
   "source": []
  }
 ],
 "metadata": {
  "kernelspec": {
   "display_name": "Python 3 (ipykernel)",
   "language": "python",
   "name": "python3"
  },
  "language_info": {
   "codemirror_mode": {
    "name": "ipython",
    "version": 3
   },
   "file_extension": ".py",
   "mimetype": "text/x-python",
   "name": "python",
   "nbconvert_exporter": "python",
   "pygments_lexer": "ipython3",
   "version": "3.9.12"
  }
 },
 "nbformat": 4,
 "nbformat_minor": 5
}
